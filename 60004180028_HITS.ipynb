{
 "cells": [
  {
   "cell_type": "markdown",
   "metadata": {},
   "source": [
    "# Hyperlink Induced Topic Search (HITS) Algorithm\n",
    "\n",
    "Hyperlink Induced Topic Search (HITS) Algorithm is a Link Analysis Algorithm that rates webpages, developed by Jon Kleinberg. This algorithm is used to the web link-structures to discover and rank the webpages relevant for a particular search. \n",
    "HITS uses hubs and authorities to define a recursive relationship between webpages. \n",
    "\n",
    "HITS uses hubs and authorities to define a recursive relationship between webpages.\n",
    "\n",
    "<b>Authority:</b> A node is high-quality if many high-quality nodes link to it.\n",
    "\n",
    "<b>Hub:</b> A node is high-quality if it links to many high-quality nodes\n",
    "\n",
    "\n",
    "### Steps to implement HITS\n",
    "\n",
    "* Initialize the hub and authority of each node with a value of 1\n",
    "* For each iteration, update the hub and authority of every node in the graph\n",
    "* The new authority is the sum of the hub of its parents\n",
    "* The new hub is the sum of the authority of its children\n",
    "* Normalize the new authority and hub\n",
    "\n",
    "![image1](imagehits1.png)\n",
    "![image2](imagehits2.png)\n",
    "![image3](image3.png)\n",
    "![image4](image4.png)"
   ]
  },
  {
   "cell_type": "code",
   "execution_count": 18,
   "metadata": {},
   "outputs": [],
   "source": [
    "import matplotlib.pyplot as plt\n",
    "import networkx as nx"
   ]
  },
  {
   "cell_type": "code",
   "execution_count": 47,
   "metadata": {},
   "outputs": [],
   "source": [
    "G = nx.DiGraph()"
   ]
  },
  {
   "cell_type": "code",
   "execution_count": 48,
   "metadata": {},
   "outputs": [],
   "source": [
    "G.add_node(\"A\")\n",
    "G.add_node(\"B\")\n",
    "G.add_node(\"C\")\n",
    "G.add_node(\"D\")\n",
    "G.add_node(\"E\")\n",
    "G.add_node(\"F\")\n",
    "G.add_node(\"G\")\n",
    "G.add_node(\"H\")"
   ]
  },
  {
   "cell_type": "code",
   "execution_count": 49,
   "metadata": {},
   "outputs": [],
   "source": [
    "G.add_edges_from([(\"A\",\"D\"),(\"B\",\"C\"),(\"B\",\"E\"),(\"C\",\"A\"),(\"D\",\"B\"),(\"D\",\"C\"),(\"E\",\"F\"),(\"E\",\"D\"),(\"E\",\"B\"),(\"E\",\"C\"),(\"F\",\"C\"),(\"F\",\"H\"),(\"G\",\"C\"),(\"G\",\"A\"),(\"H\",\"A\")])"
   ]
  },
  {
   "cell_type": "code",
   "execution_count": 51,
   "metadata": {},
   "outputs": [
    {
     "data": {
      "text/plain": [
       "15"
      ]
     },
     "execution_count": 51,
     "metadata": {},
     "output_type": "execute_result"
    }
   ],
   "source": [
    "len(G.edges)"
   ]
  },
  {
   "cell_type": "code",
   "execution_count": 69,
   "metadata": {},
   "outputs": [
    {
     "data": {
      "image/png": "[encoded data removed]",
      "text/plain": [
       "<Figure size 432x288 with 1 Axes>"
      ]
     },
     "metadata": {},
     "output_type": "display_data"
    }
   ],
   "source": [
    "nx.draw(G, with_labels=True, font_weight='bold')"
   ]
  },
  {
   "cell_type": "code",
   "execution_count": 54,
   "metadata": {},
   "outputs": [
    {
     "data": {
      "text/plain": [
       "({'A': 0.04305010866633368,\n",
       "  'B': 0.14444089275625216,\n",
       "  'C': 0.029508489628427694,\n",
       "  'D': 0.18749100142258587,\n",
       "  'E': 0.26762580012702586,\n",
       "  'F': 0.14444089275625216,\n",
       "  'G': 0.15393432501469498,\n",
       "  'H': 0.029508489628427694},\n",
       " {'A': 0.08751958758098452,\n",
       "  'B': 0.18704574147053715,\n",
       "  'C': 0.36903609552875044,\n",
       "  'D': 0.1276828398619346,\n",
       "  'E': 0.05936290160860254,\n",
       "  'F': 0.10998993234058818,\n",
       "  'G': 0.0,\n",
       "  'H': 0.05936290160860254})"
      ]
     },
     "execution_count": 54,
     "metadata": {},
     "output_type": "execute_result"
    }
   ],
   "source": [
    "nx.hits(G ,max_iter = 50, normalized = True)"
   ]
  },
  {
   "cell_type": "code",
   "execution_count": 27,
   "metadata": {},
   "outputs": [],
   "source": [
    "import numpy as np\n",
    "import csv,random\n",
    "import math\n",
    "import matplotlib.pyplot as plt"
   ]
  },
  {
   "cell_type": "code",
   "execution_count": 37,
   "metadata": {},
   "outputs": [],
   "source": [
    "class Node:\n",
    "    def __init__(self,name,connected_to=None):\n",
    "        self.name=name\n",
    "        self.connected_to=connected_to\n",
    "        self.incoming_edges=[]\n",
    "        self.hub=1\n",
    "        self.new_hub=0\n",
    "        self.authority=1\n",
    "        self.new_auth=0\n",
    "        \n",
    "    def __str__(self):\n",
    "        return self.name"
   ]
  },
  {
   "cell_type": "code",
   "execution_count": 38,
   "metadata": {},
   "outputs": [],
   "source": [
    "A=Node(\"A\")\n",
    "B=Node(\"B\")\n",
    "C=Node(\"C\")\n",
    "D=Node(\"D\")\n",
    "E=Node(\"E\")\n",
    "F=Node(\"F\")\n",
    "G=Node(\"G\")\n",
    "H=Node(\"H\")\n",
    "graph_nodes=[A,B,C,D,E,F,G,H]"
   ]
  },
  {
   "cell_type": "code",
   "execution_count": 39,
   "metadata": {},
   "outputs": [],
   "source": [
    "A.connected_to=[D]\n",
    "B.connected_to=[C,E]\n",
    "C.connected_to=[A]\n",
    "D.connected_to=[B,C]\n",
    "E.connected_to=[F,D,B,C]\n",
    "F.connected_to=[C,H]\n",
    "G.connected_to=[C,A]\n",
    "H.connected_to=[A]\n"
   ]
  },
  {
   "cell_type": "code",
   "execution_count": 40,
   "metadata": {},
   "outputs": [],
   "source": [
    "for i in graph_nodes:\n",
    "    for j in graph_nodes:\n",
    "        if i in j.connected_to:\n",
    "            i.incoming_edges.append(j)"
   ]
  },
  {
   "cell_type": "code",
   "execution_count": 33,
   "metadata": {},
   "outputs": [
    {
     "data": {
      "text/plain": [
       "[<__main__.Node at 0x7f878bed4250>, <__main__.Node at 0x7f878bed4640>]"
      ]
     },
     "execution_count": 33,
     "metadata": {},
     "output_type": "execute_result"
    }
   ],
   "source": [
    "B.incoming_edges"
   ]
  },
  {
   "cell_type": "code",
   "execution_count": 71,
   "metadata": {},
   "outputs": [
    {
     "name": "stdout",
     "output_type": "stream",
     "text": [
      "-------------------------------------------------- Iteration:0 --------------------------------------------------\n",
      "A Hub= 0.044077134986225903\n",
      "A Authority= 0.10881542699724517\n",
      "--------------------------------------------------\n",
      "B Hub= 0.14187327823691462\n",
      "B Authority= 0.17906336088154268\n",
      "--------------------------------------------------\n",
      "C Hub= 0.03305785123966942\n",
      "C Authority= 0.36776859504132225\n",
      "--------------------------------------------------\n",
      "D Hub= 0.18457300275482097\n",
      "D Authority= 0.12121212121212122\n",
      "--------------------------------------------------\n",
      "E Hub= 0.26584022038567495\n",
      "E Authority= 0.059228650137741035\n",
      "--------------------------------------------------\n",
      "F Hub= 0.14187327823691462\n",
      "F Authority= 0.10468319559228649\n",
      "--------------------------------------------------\n",
      "G Hub= 0.1556473829201102\n",
      "G Authority= 0.0\n",
      "--------------------------------------------------\n",
      "H Hub= 0.03305785123966942\n",
      "H Authority= 0.059228650137741035\n",
      "--------------------------------------------------\n",
      "-------------------------------------------------- Iteration:1 --------------------------------------------------\n",
      "A Hub= 0.04055299539170508\n",
      "A Authority= 0.09158134243458474\n",
      "--------------------------------------------------\n",
      "B Hub= 0.14285714285714285\n",
      "B Authority= 0.18600682593856652\n",
      "--------------------------------------------------\n",
      "C Hub= 0.036405529953917055\n",
      "C Authority= 0.36746302616609783\n",
      "--------------------------------------------------\n",
      "D Hub= 0.18294930875576038\n",
      "D Authority= 0.12798634812286688\n",
      "--------------------------------------------------\n",
      "E Hub= 0.2585253456221199\n",
      "E Authority= 0.05858930602957906\n",
      "--------------------------------------------------\n",
      "F Hub= 0.14285714285714285\n",
      "F Authority= 0.10978384527872581\n",
      "--------------------------------------------------\n",
      "G Hub= 0.15944700460829495\n",
      "G Authority= 0.0\n",
      "--------------------------------------------------\n",
      "H Hub= 0.036405529953917055\n",
      "H Authority= 0.05858930602957906\n",
      "--------------------------------------------------\n"
     ]
    }
   ],
   "source": [
    "for i in range(2):\n",
    "    print(\"-\"*50,f\"Iteration:{i}\",\"-\"*50)\n",
    "    sum_auth=0\n",
    "    sum_hub=0\n",
    "    for node in (graph_nodes):\n",
    "        if len(node.connected_to)==0:\n",
    "            node.authority=0\n",
    "            node.new_auth=0\n",
    "        elif len(node.connected_to)==1:\n",
    "            node.new_auth=node.connected_to[0].hub\n",
    "        else:\n",
    "            node.new_auth=0\n",
    "          \n",
    "            for conn in node.connected_to:\n",
    "                node.new_auth+=conn.hub\n",
    "        \n",
    "        \n",
    "        if len(node.incoming_edges)==0:\n",
    "            node.hub=0\n",
    "            node.new_hub=0\n",
    "        elif len(node.incoming_edges)==1:\n",
    "            node.new_hub=node.incoming_edges[0].authority\n",
    "        else:\n",
    "            node.new_hub=0\n",
    "      \n",
    "            for conn in node.incoming_edges:\n",
    "                node.new_hub+=conn.authority\n",
    "                \n",
    "\n",
    "        sum_auth+=node.new_auth\n",
    "        sum_hub+=node.new_hub\n",
    "    \n",
    "    \n",
    "    for  node in graph_nodes:\n",
    "        node.authority=node.new_auth/sum_auth\n",
    "        print(f\"{node.name} Hub=\",node.authority)\n",
    "        node.hub=node.new_hub/sum_hub\n",
    "        print(f\"{node.name} Authority=\",node.hub)\n",
    "        print(\"-\"*50)\n",
    "        \n",
    "        \n",
    "        \n",
    "    \n",
    "    \n",
    "        \n",
    "        "
   ]
  },
  {
   "cell_type": "code",
   "execution_count": 228,
   "metadata": {},
   "outputs": [
    {
     "data": {
      "text/plain": [
       "0.11428571428571428"
      ]
     },
     "execution_count": 228,
     "metadata": {},
     "output_type": "execute_result"
    }
   ],
   "source": [
    "A.hub"
   ]
  }
 ],
 "metadata": {
  "kernelspec": {
   "display_name": "Python 3",
   "language": "python",
   "name": "python3"
  },
  "language_info": {
   "codemirror_mode": {
    "name": "ipython",
    "version": 3
   },
   "file_extension": ".py",
   "mimetype": "text/x-python",
   "name": "python",
   "nbconvert_exporter": "python",
   "pygments_lexer": "ipython3",
   "version": "3.7.6"
  }
 },
 "nbformat": 4,
 "nbformat_minor": 4
}
